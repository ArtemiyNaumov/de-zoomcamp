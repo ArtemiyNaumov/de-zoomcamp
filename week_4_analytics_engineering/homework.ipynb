{
 "cells": [
  {
   "cell_type": "markdown",
   "id": "8bacadba-9c46-4cea-bc54-acb920b252ab",
   "metadata": {},
   "source": [
    "## Week 4 Homework \n",
    "\n",
    "In this homework, we'll use the models developed during the week 4 videos and enhance the already presented dbt project using the already loaded Taxi data for fhv vehicles for year 2019 in our DWH.\n",
    "\n",
    "This means that in this homework we use the following data [Datasets list](https://github.com/DataTalksClub/nyc-tlc-data/)\n",
    "* Yellow taxi data - Years 2019 and 2020\n",
    "* Green taxi data - Years 2019 and 2020 \n",
    "* fhv data - Year 2019. \n",
    "\n",
    "We will use the data loaded for:\n",
    "\n",
    "* Building a source table: `stg_fhv_tripdata`\n",
    "* Building a fact table: `fact_fhv_trips`\n",
    "* Create a dashboard \n",
    "\n",
    "If you don't have access to GCP, you can do this locally using the ingested data from your Postgres database\n",
    "instead. If you have access to GCP, you don't need to do it for local Postgres -\n",
    "only if you want to.\n",
    "\n",
    "> **Note**: if your answer doesn't match exactly, select the closest option "
   ]
  },
  {
   "cell_type": "markdown",
   "id": "98dd4de5-4a8f-4de8-befb-2d03b307f1bd",
   "metadata": {},
   "source": [
    "### Question 1: \n",
    "\n",
    "**What is the count of records in the model fact_trips after running all models with the test run variable disabled and filtering for 2019 and 2020 data only (pickup datetime)?** \n",
    "\n",
    "You'll need to have completed the [\"Build the first dbt models\"](https://www.youtube.com/watch?v=UVI30Vxzd6c) video and have been able to run the models via the CLI. \n",
    "You should find the views and models for querying in your DWH.\n",
    "\n",
    "- 41648442\n",
    "- 51648442\n",
    "- 61648442\n",
    "- 71648442"
   ]
  },
  {
   "cell_type": "markdown",
   "id": "8281f59f-13dd-4f63-a5ac-983941902cf7",
   "metadata": {},
   "source": [
    "```sql\n",
    "SELECT COUNT(1) FROM `splendid-skill-375614.dbt_zoomcamp_dataset.fact_trips` \n",
    "WHERE EXTRACT(YEAR FROM pickup_datetime) IN (2019, 2020)\n",
    "```"
   ]
  },
  {
   "cell_type": "raw",
   "id": "0c0d7057-6403-4ad4-9db7-b1bfe814e154",
   "metadata": {},
   "source": [
    "[{\n",
    "  \"f0_\": \"61540560\"\n",
    "}]"
   ]
  },
  {
   "cell_type": "markdown",
   "id": "dafb8031-5003-430d-b6d8-df90d36a044c",
   "metadata": {},
   "source": [
    "#### Answer: 61 648 442"
   ]
  },
  {
   "cell_type": "markdown",
   "id": "a01f1e53-4855-4239-911d-f0f05a73603f",
   "metadata": {},
   "source": [
    "### Question 2: \n",
    "\n",
    "**What is the distribution between service type filtering by years 2019 and 2020 data as done in the videos?**\n",
    "\n",
    "You will need to complete \"Visualising the data\" videos, either using [google data studio](https://www.youtube.com/watch?v=39nLTs74A3E) or [metabase](https://www.youtube.com/watch?v=BnLkrA7a6gM). \n",
    "\n",
    "- 89.9/10.1\n",
    "- 94/6\n",
    "- 76.3/23.7\n",
    "- 99.1/0.9"
   ]
  },
  {
   "cell_type": "markdown",
   "id": "3322edd4-c7e0-4090-855b-738c5cf675dd",
   "metadata": {},
   "source": [
    "https://lookerstudio.google.com/reporting/4dc67cfe-8967-4f6b-9bf2-6a073e2d9d02"
   ]
  },
  {
   "cell_type": "markdown",
   "id": "a979e6c8-6b8a-49f8-ac25-37bb42c47ad7",
   "metadata": {},
   "source": [
    "#### Answer: 89.9/10.1"
   ]
  },
  {
   "cell_type": "markdown",
   "id": "91acab19-b6bd-4d29-b0d1-4614091c3504",
   "metadata": {},
   "source": [
    "### Question 3: \n",
    "\n",
    "**What is the count of records in the model stg_fhv_tripdata after running all models with the test run variable disabled (:false)?**  \n",
    "\n",
    "Create a staging model for the fhv data for 2019 and do not add a deduplication step. Run it via the CLI without limits (is_test_run: false).\n",
    "Filter records with pickup time in year 2019.\n",
    "\n",
    "- 33244696\n",
    "- 43244696\n",
    "- 53244696\n",
    "- 63244696"
   ]
  },
  {
   "cell_type": "markdown",
   "id": "bf5fdcc9-ce01-4a41-b072-b598f882a2ab",
   "metadata": {},
   "source": [
    "```sql\n",
    "SELECT COUNT(1) FROM `splendid-skill-375614.dbt_zoomcamp_dataset.stg_fhv_tripdata` \n",
    "WHERE EXTRACT(YEAR FROM pickup_datetime) = 2019\n",
    "```"
   ]
  },
  {
   "cell_type": "raw",
   "id": "1da16e7e-fb97-47c8-a01a-16ee11127630",
   "metadata": {},
   "source": [
    "[{\n",
    "  \"f0_\": \"43244696\"\n",
    "}]"
   ]
  },
  {
   "cell_type": "markdown",
   "id": "150b0661-3a6e-4d71-b935-ac55688267f8",
   "metadata": {},
   "source": [
    "#### Answer: 43244696"
   ]
  },
  {
   "cell_type": "markdown",
   "id": "697f3282-3557-45df-a416-85dfc1ba0764",
   "metadata": {},
   "source": [
    "### Question 4: \n",
    "\n",
    "**What is the count of records in the model fact_fhv_trips after running all dependencies with the test run variable disabled (:false)?**  \n",
    "\n",
    "Create a core model for the stg_fhv_tripdata joining with dim_zones.\n",
    "Similar to what we've done in fact_trips, keep only records with known pickup and dropoff locations entries for pickup and dropoff locations. \n",
    "Run it via the CLI without limits (is_test_run: false) and filter records with pickup time in year 2019.\n",
    "\n",
    "- 12998722\n",
    "- 22998722\n",
    "- 32998722\n",
    "- 42998722"
   ]
  },
  {
   "cell_type": "markdown",
   "id": "ddcde1fe-24a1-46f5-9714-6a515e43bb0a",
   "metadata": {},
   "source": [
    "```sql\n",
    "SELECT COUNT(1) FROM `splendid-skill-375614.dbt_zoomcamp_dataset.fact_fhv_trips` \n",
    "WHERE EXTRACT(YEAR FROM pickup_datetime) = 2019\n",
    "```"
   ]
  },
  {
   "cell_type": "raw",
   "id": "4a5e6f1e-3fe3-4ac2-84e8-ca410c26c114",
   "metadata": {},
   "source": [
    "[{\n",
    "  \"f0_\": \"22998722\"\n",
    "}]"
   ]
  },
  {
   "cell_type": "markdown",
   "id": "33abbce6-ddaa-4ed0-a9c1-0ac6aaa6bd0b",
   "metadata": {},
   "source": [
    "#### Answer: 22998722"
   ]
  },
  {
   "cell_type": "markdown",
   "id": "f2331130-3faf-484f-a2f0-7605394769a9",
   "metadata": {},
   "source": [
    "### Question 5: \n",
    "\n",
    "**What is the month with the biggest amount of rides after building a tile for the fact_fhv_trips table?**\n",
    "\n",
    "Create a dashboard with some tiles that you find interesting to explore the data. One tile should show the amount of trips per month, as done in the videos for fact_trips, based on the fact_fhv_trips table.\n",
    "\n",
    "- March\n",
    "- April\n",
    "- January\n",
    "- December"
   ]
  },
  {
   "cell_type": "markdown",
   "id": "e511701e-d8c3-4636-83f6-323ae03cb460",
   "metadata": {},
   "source": [
    "https://lookerstudio.google.com/reporting/ac138e10-57ff-46c2-bfa2-e4be1356a7c4"
   ]
  },
  {
   "cell_type": "markdown",
   "id": "70432466-40b0-4938-9356-cc27e14b788a",
   "metadata": {},
   "source": [
    "#### Answer: January"
   ]
  }
 ],
 "metadata": {
  "kernelspec": {
   "display_name": "Python 3 (ipykernel)",
   "language": "python",
   "name": "python3"
  },
  "language_info": {
   "codemirror_mode": {
    "name": "ipython",
    "version": 3
   },
   "file_extension": ".py",
   "mimetype": "text/x-python",
   "name": "python",
   "nbconvert_exporter": "python",
   "pygments_lexer": "ipython3",
   "version": "3.11.0"
  }
 },
 "nbformat": 4,
 "nbformat_minor": 5
}
