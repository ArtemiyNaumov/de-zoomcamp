{
 "cells": [
  {
   "cell_type": "markdown",
   "id": "61c8383e-e270-46a9-9b88-a0c013655b83",
   "metadata": {},
   "source": [
    "## Question 1. Knowing docker tags\n",
    "\n",
    "Run the command to get information on Docker \n",
    "\n",
    "```docker --help```\n",
    "\n",
    "Now run the command to get help on the \"docker build\" command\n",
    "\n",
    "Which tag has the following text? - *Write the image ID to the file* \n",
    "\n",
    "- `--imageid string`\n",
    "- `--iidfile string`\n",
    "- `--idimage string`\n",
    "- `--idfile string`"
   ]
  },
  {
   "cell_type": "code",
   "execution_count": 7,
   "id": "4d493eaf-50db-4637-ad76-00eeb62c40a5",
   "metadata": {},
   "outputs": [
    {
     "name": "stdout",
     "output_type": "stream",
     "text": [
      "\n",
      "Usage:  docker build [OPTIONS] PATH | URL | -\n",
      "\n",
      "Build an image from a Dockerfile\n",
      "\n",
      "Options:\n",
      "      --add-host list           Add a custom host-to-IP mapping (host:ip)\n",
      "      --build-arg list          Set build-time variables\n",
      "      --cache-from strings      Images to consider as cache sources\n",
      "      --disable-content-trust   Skip image verification (default true)\n",
      "  -f, --file string             Name of the Dockerfile (Default is\n",
      "                                'PATH/Dockerfile')\n",
      "      --iidfile string          Write the image ID to the file\n",
      "      --isolation string        Container isolation technology\n",
      "      --label list              Set metadata for an image\n",
      "      --network string          Set the networking mode for the RUN\n",
      "                                instructions during build (default \"default\")\n",
      "      --no-cache                Do not use cache when building the image\n",
      "  -o, --output stringArray      Output destination (format:\n",
      "                                type=local,dest=path)\n",
      "      --platform string         Set platform if server is multi-platform\n",
      "                                capable\n",
      "      --progress string         Set type of progress output (auto, plain,\n",
      "                                tty). Use plain to show container output\n",
      "                                (default \"auto\")\n",
      "      --pull                    Always attempt to pull a newer version of\n",
      "                                the image\n",
      "  -q, --quiet                   Suppress the build output and print image\n",
      "                                ID on success\n",
      "      --secret stringArray      Secret file to expose to the build (only\n",
      "                                if BuildKit enabled):\n",
      "                                id=mysecret,src=/local/secret\n",
      "      --ssh stringArray         SSH agent socket or keys to expose to the\n",
      "                                build (only if BuildKit enabled) (format:\n",
      "                                default|<id>[=<socket>|<key>[,<key>]])\n",
      "  -t, --tag list                Name and optionally a tag in the\n",
      "                                'name:tag' format\n",
      "      --target string           Set the target build stage to build.\n"
     ]
    }
   ],
   "source": [
    "!docker build --help"
   ]
  },
  {
   "cell_type": "markdown",
   "id": "c4ff84ac-1b20-4826-a8bb-7ecc755c55fb",
   "metadata": {},
   "source": [
    "#### Answer: `--iidfile string`"
   ]
  },
  {
   "cell_type": "markdown",
   "id": "d1c89bc5-15e3-4acd-9f9a-11e2109bf0ec",
   "metadata": {},
   "source": [
    "## Question 2. Understanding docker first run \n",
    "\n",
    "Run docker with the python:3.9 image in an interactive mode and the entrypoint of bash.\n",
    "Now check the python modules that are installed ( use pip list). \n",
    "How many python packages/modules are installed?\n",
    "\n",
    "- 1\n",
    "- 6\n",
    "- 3\n",
    "- 7"
   ]
  },
  {
   "cell_type": "markdown",
   "id": "f604d1be-7610-4e50-8a6d-7e77676d37e4",
   "metadata": {},
   "source": [
    "```bash\n",
    "docker run -it --entrypoint=bash python:3.9\n",
    "```\n",
    "\n",
    "Unable to find image 'python:3.9' locally  \n",
    "3.9: Pulling from library/python  \n",
    "...  \n",
    "\n",
    "```bash\n",
    "pip list\n",
    "```\n",
    "\n",
    "Package    Version  \n",
    "---------- -------  \n",
    "pip        22.0.4  \n",
    "setuptools 58.1.0  \n",
    "wheel      0.38.4  "
   ]
  },
  {
   "cell_type": "markdown",
   "id": "c0a32f2a-8d54-4e50-945b-47d4f8db3ddd",
   "metadata": {},
   "source": [
    "#### Answer: 3"
   ]
  },
  {
   "cell_type": "markdown",
   "id": "168c2454-cc05-4a57-a890-96a4a46787e1",
   "metadata": {},
   "source": [
    "# Prepare Postgres\n",
    "\n",
    "Run Postgres and load data as shown in the videos\n",
    "We'll use the green taxi trips from January 2019:\n",
    "\n",
    "```wget https://github.com/DataTalksClub/nyc-tlc-data/releases/download/green/green_tripdata_2019-01.csv.gz```\n",
    "\n",
    "You will also need the dataset with zones:\n",
    "\n",
    "```wget https://s3.amazonaws.com/nyc-tlc/misc/taxi+_zone_lookup.csv```\n",
    "\n",
    "Download this data and put it into Postgres (with jupyter notebooks or with a pipeline)\n"
   ]
  },
  {
   "cell_type": "markdown",
   "id": "3df3b00c-8ec8-4b96-8db6-5d7fd645f8cf",
   "metadata": {},
   "source": [
    "#### Preparing postgres:\n",
    "```bash\n",
    "cd ../\n",
    "\n",
    "#starting pg server and pgadmin via docker-compose\n",
    "docker-compose up -d\n",
    "\n",
    "#launching local server for transfering CSV data into docker container (in different terminal)\n",
    "winpty python -m http.server\n",
    "\n",
    "#running shell script with dockerized data ingestion\n",
    "./shell_scripts/ingest_data.sh\n",
    "```"
   ]
  },
  {
   "cell_type": "code",
   "execution_count": 1,
   "id": "04c7a06f-78f4-494c-84c8-b2c55831a222",
   "metadata": {},
   "outputs": [],
   "source": [
    "import pandas as pd\n",
    "from sqlalchemy import create_engine\n",
    "from pg_credentials import host, port, db_name, user, password"
   ]
  },
  {
   "cell_type": "code",
   "execution_count": 8,
   "id": "9f4f031f-42f5-4b65-a623-e076e19e71a4",
   "metadata": {},
   "outputs": [],
   "source": [
    "pg_engine = create_engine(f'postgresql://{user}:{password}@{host}:{port}/{db_name}')\n",
    "#conn = engine.connect()"
   ]
  },
  {
   "cell_type": "code",
   "execution_count": 6,
   "id": "7b7491f9-72c3-49af-b5f2-6366b682f9fb",
   "metadata": {},
   "outputs": [],
   "source": [
    "conn.close()"
   ]
  },
  {
   "cell_type": "markdown",
   "id": "f4e873c9-62bf-4131-9318-5bd8199ff32e",
   "metadata": {},
   "source": [
    "## Question 3. Count records \n",
    "\n",
    "How many taxi trips were totally made on January 15?\n",
    "\n",
    "Tip: started and finished on 2019-01-15. \n",
    "\n",
    "Remember that `lpep_pickup_datetime` and `lpep_dropoff_datetime` columns are in the format timestamp (date and hour+min+sec) and not in date.\n",
    "\n",
    "- 20689\n",
    "- 20530\n",
    "- 17630\n",
    "- 21090"
   ]
  },
  {
   "cell_type": "code",
   "execution_count": 7,
   "id": "dad30779-db79-4039-841c-1fc6ff3503d4",
   "metadata": {},
   "outputs": [],
   "source": [
    "q3_sql = '''\n",
    "    SELECT\n",
    "        count(1)\n",
    "    FROM public.green_taxi_data\n",
    "    WHERE \n",
    "        lpep_pickup_datetime::date = '2019-01-15'\n",
    "        AND lpep_dropoff_datetime::date = '2019-01-15'\n",
    "        --AND lpep_pickup_datetime <= lpep_dropoff_datetime\n",
    "'''"
   ]
  },
  {
   "cell_type": "code",
   "execution_count": 15,
   "id": "2591ac5a-ba4f-4aa8-912e-4afa93cabc04",
   "metadata": {},
   "outputs": [],
   "source": [
    "df3 = pd.read_sql(sql=q3_sql, con=pg_engine)"
   ]
  },
  {
   "cell_type": "code",
   "execution_count": 16,
   "id": "faab1ea6-d1cd-4289-92af-38e0dfb7ade1",
   "metadata": {},
   "outputs": [
    {
     "data": {
      "text/html": [
       "<div>\n",
       "<style scoped>\n",
       "    .dataframe tbody tr th:only-of-type {\n",
       "        vertical-align: middle;\n",
       "    }\n",
       "\n",
       "    .dataframe tbody tr th {\n",
       "        vertical-align: top;\n",
       "    }\n",
       "\n",
       "    .dataframe thead th {\n",
       "        text-align: right;\n",
       "    }\n",
       "</style>\n",
       "<table border=\"1\" class=\"dataframe\">\n",
       "  <thead>\n",
       "    <tr style=\"text-align: right;\">\n",
       "      <th></th>\n",
       "      <th>count</th>\n",
       "    </tr>\n",
       "  </thead>\n",
       "  <tbody>\n",
       "    <tr>\n",
       "      <th>0</th>\n",
       "      <td>20530</td>\n",
       "    </tr>\n",
       "  </tbody>\n",
       "</table>\n",
       "</div>"
      ],
      "text/plain": [
       "   count\n",
       "0  20530"
      ]
     },
     "execution_count": 16,
     "metadata": {},
     "output_type": "execute_result"
    }
   ],
   "source": [
    "df3.head()"
   ]
  },
  {
   "cell_type": "markdown",
   "id": "3a21716d-2d24-4271-9c9b-3bcb3eaf8277",
   "metadata": {},
   "source": [
    "#### Answer: 20530"
   ]
  },
  {
   "cell_type": "markdown",
   "id": "c4c19b0e-037e-487d-8917-078532612794",
   "metadata": {},
   "source": [
    "## Question 4. Largest trip for each day\n",
    "\n",
    "Which was the day with the largest trip distance\n",
    "Use the pick up time for your calculations.\n",
    "\n",
    "- 2019-01-18\n",
    "- 2019-01-28\n",
    "- 2019-01-15\n",
    "- 2019-01-10"
   ]
  },
  {
   "cell_type": "code",
   "execution_count": 12,
   "id": "2dac683d-5100-45b2-bca6-a13f62445675",
   "metadata": {},
   "outputs": [],
   "source": [
    "q4_sql = '''\n",
    "    SELECT\n",
    "        lpep_pickup_datetime::date as ride_date,\n",
    "        max(trip_distance)\n",
    "    FROM public.green_taxi_data\n",
    "    WHERE \n",
    "        lpep_pickup_datetime::date BETWEEN '2019-01-01' AND '2019-01-31'\n",
    "    GROUP BY 1\n",
    "    ORDER BY 2 DESC\n",
    "    LIMIT 5\n",
    "'''"
   ]
  },
  {
   "cell_type": "code",
   "execution_count": 17,
   "id": "d518d85e-beb9-4a48-a3cf-55fce1fd9c29",
   "metadata": {},
   "outputs": [],
   "source": [
    "df4 = pd.read_sql(sql=q4_sql, con=pg_engine)"
   ]
  },
  {
   "cell_type": "code",
   "execution_count": 18,
   "id": "4480a9cf-a7c3-454a-9547-3ce33b2014f4",
   "metadata": {},
   "outputs": [
    {
     "data": {
      "text/html": [
       "<div>\n",
       "<style scoped>\n",
       "    .dataframe tbody tr th:only-of-type {\n",
       "        vertical-align: middle;\n",
       "    }\n",
       "\n",
       "    .dataframe tbody tr th {\n",
       "        vertical-align: top;\n",
       "    }\n",
       "\n",
       "    .dataframe thead th {\n",
       "        text-align: right;\n",
       "    }\n",
       "</style>\n",
       "<table border=\"1\" class=\"dataframe\">\n",
       "  <thead>\n",
       "    <tr style=\"text-align: right;\">\n",
       "      <th></th>\n",
       "      <th>ride_date</th>\n",
       "      <th>max</th>\n",
       "    </tr>\n",
       "  </thead>\n",
       "  <tbody>\n",
       "    <tr>\n",
       "      <th>0</th>\n",
       "      <td>2019-01-15</td>\n",
       "      <td>117.99</td>\n",
       "    </tr>\n",
       "    <tr>\n",
       "      <th>1</th>\n",
       "      <td>2019-01-18</td>\n",
       "      <td>80.96</td>\n",
       "    </tr>\n",
       "    <tr>\n",
       "      <th>2</th>\n",
       "      <td>2019-01-28</td>\n",
       "      <td>64.27</td>\n",
       "    </tr>\n",
       "    <tr>\n",
       "      <th>3</th>\n",
       "      <td>2019-01-10</td>\n",
       "      <td>64.20</td>\n",
       "    </tr>\n",
       "    <tr>\n",
       "      <th>4</th>\n",
       "      <td>2019-01-06</td>\n",
       "      <td>60.91</td>\n",
       "    </tr>\n",
       "  </tbody>\n",
       "</table>\n",
       "</div>"
      ],
      "text/plain": [
       "    ride_date     max\n",
       "0  2019-01-15  117.99\n",
       "1  2019-01-18   80.96\n",
       "2  2019-01-28   64.27\n",
       "3  2019-01-10   64.20\n",
       "4  2019-01-06   60.91"
      ]
     },
     "execution_count": 18,
     "metadata": {},
     "output_type": "execute_result"
    }
   ],
   "source": [
    "df4.head()"
   ]
  },
  {
   "cell_type": "markdown",
   "id": "826bb21b-41fe-4f3c-a585-ea2b9af95895",
   "metadata": {},
   "source": [
    "#### Answer: 2019-01-15"
   ]
  },
  {
   "cell_type": "markdown",
   "id": "479d8d22-ab12-4a81-9dab-ac7c040d07b3",
   "metadata": {},
   "source": [
    "## Question 5. The number of passengers\n",
    "\n",
    "In 2019-01-01 how many trips had 2 and 3 passengers?\n",
    " \n",
    "- 2: 1282 ; 3: 266\n",
    "- 2: 1532 ; 3: 126\n",
    "- 2: 1282 ; 3: 254\n",
    "- 2: 1282 ; 3: 274"
   ]
  },
  {
   "cell_type": "code",
   "execution_count": 19,
   "id": "555c3f9e-33e4-4546-a3ee-06eb83aa431d",
   "metadata": {},
   "outputs": [],
   "source": [
    "q5_sql = '''\n",
    "    SELECT\n",
    "        passenger_count,\n",
    "        count(1)\n",
    "    FROM public.green_taxi_data\n",
    "    WHERE \n",
    "        lpep_pickup_datetime::date = '2019-01-01'\n",
    "        --AND lpep_dropoff_datetime::date = '2019-01-01'\n",
    "        AND passenger_count IN (2, 3)\n",
    "    GROUP BY 1\n",
    "'''"
   ]
  },
  {
   "cell_type": "code",
   "execution_count": 20,
   "id": "585bd85f-14af-49ba-817b-8591edc0d1a1",
   "metadata": {},
   "outputs": [],
   "source": [
    "df5 = pd.read_sql(sql=q5_sql, con=pg_engine)"
   ]
  },
  {
   "cell_type": "code",
   "execution_count": 22,
   "id": "6fe2c9e2-e38e-400a-b1cd-1ad785b52eee",
   "metadata": {},
   "outputs": [
    {
     "data": {
      "text/html": [
       "<div>\n",
       "<style scoped>\n",
       "    .dataframe tbody tr th:only-of-type {\n",
       "        vertical-align: middle;\n",
       "    }\n",
       "\n",
       "    .dataframe tbody tr th {\n",
       "        vertical-align: top;\n",
       "    }\n",
       "\n",
       "    .dataframe thead th {\n",
       "        text-align: right;\n",
       "    }\n",
       "</style>\n",
       "<table border=\"1\" class=\"dataframe\">\n",
       "  <thead>\n",
       "    <tr style=\"text-align: right;\">\n",
       "      <th></th>\n",
       "      <th>passenger_count</th>\n",
       "      <th>count</th>\n",
       "    </tr>\n",
       "  </thead>\n",
       "  <tbody>\n",
       "    <tr>\n",
       "      <th>0</th>\n",
       "      <td>2</td>\n",
       "      <td>1282</td>\n",
       "    </tr>\n",
       "    <tr>\n",
       "      <th>1</th>\n",
       "      <td>3</td>\n",
       "      <td>254</td>\n",
       "    </tr>\n",
       "  </tbody>\n",
       "</table>\n",
       "</div>"
      ],
      "text/plain": [
       "   passenger_count  count\n",
       "0                2   1282\n",
       "1                3    254"
      ]
     },
     "execution_count": 22,
     "metadata": {},
     "output_type": "execute_result"
    }
   ],
   "source": [
    "df5.head()"
   ]
  },
  {
   "cell_type": "markdown",
   "id": "2182d4de-db23-4ed0-bf8f-49b3c1223210",
   "metadata": {},
   "source": [
    "#### Answer: 2: 1282  3: 254"
   ]
  },
  {
   "cell_type": "markdown",
   "id": "48bc6be0-d1bb-41c2-85bb-8e337cc82e80",
   "metadata": {},
   "source": [
    "## Question 6. Largest tip\n",
    "\n",
    "For the passengers picked up in the Astoria Zone which was the drop off zone that had the largest tip?\n",
    "We want the name of the zone, not the id.\n",
    "\n",
    "Note: it's not a typo, it's `tip` , not `trip`\n",
    "\n",
    "- Central Park\n",
    "- Jamaica\n",
    "- South Ozone Park\n",
    "- Long Island City/Queens Plaza"
   ]
  },
  {
   "cell_type": "code",
   "execution_count": 24,
   "id": "1e19fbaf-8bb2-4e54-af6d-aad8e4d4f7ce",
   "metadata": {},
   "outputs": [],
   "source": [
    "q6_sql = '''\n",
    "    SELECT\n",
    "        doz.\"Zone\",\n",
    "        max(tip_amount)\n",
    "    FROM public.green_taxi_data g\n",
    "    INNER JOIN public.zones puz\n",
    "        ON g.\"PULocationID\" = puz.\"LocationID\"\n",
    "        AND puz.\"Zone\" = 'Astoria'\n",
    "    INNER JOIN public.zones doz\n",
    "        ON g.\"DOLocationID\" = doz.\"LocationID\"\n",
    "    GROUP BY 1\n",
    "    ORDER BY 2 DESC\n",
    "'''"
   ]
  },
  {
   "cell_type": "code",
   "execution_count": 25,
   "id": "8945c44f-2781-4eed-a78f-e29c682f3b98",
   "metadata": {},
   "outputs": [],
   "source": [
    "df6 = pd.read_sql(sql=q6_sql, con=pg_engine)"
   ]
  },
  {
   "cell_type": "code",
   "execution_count": 26,
   "id": "5842b7ca-fce5-4569-b0b0-47925c0d1eed",
   "metadata": {},
   "outputs": [
    {
     "data": {
      "text/html": [
       "<div>\n",
       "<style scoped>\n",
       "    .dataframe tbody tr th:only-of-type {\n",
       "        vertical-align: middle;\n",
       "    }\n",
       "\n",
       "    .dataframe tbody tr th {\n",
       "        vertical-align: top;\n",
       "    }\n",
       "\n",
       "    .dataframe thead th {\n",
       "        text-align: right;\n",
       "    }\n",
       "</style>\n",
       "<table border=\"1\" class=\"dataframe\">\n",
       "  <thead>\n",
       "    <tr style=\"text-align: right;\">\n",
       "      <th></th>\n",
       "      <th>Zone</th>\n",
       "      <th>max</th>\n",
       "    </tr>\n",
       "  </thead>\n",
       "  <tbody>\n",
       "    <tr>\n",
       "      <th>0</th>\n",
       "      <td>Long Island City/Queens Plaza</td>\n",
       "      <td>88.00</td>\n",
       "    </tr>\n",
       "    <tr>\n",
       "      <th>1</th>\n",
       "      <td>Central Park</td>\n",
       "      <td>30.00</td>\n",
       "    </tr>\n",
       "    <tr>\n",
       "      <th>2</th>\n",
       "      <td>Jamaica</td>\n",
       "      <td>25.00</td>\n",
       "    </tr>\n",
       "    <tr>\n",
       "      <th>3</th>\n",
       "      <td>None</td>\n",
       "      <td>25.00</td>\n",
       "    </tr>\n",
       "    <tr>\n",
       "      <th>4</th>\n",
       "      <td>Astoria</td>\n",
       "      <td>18.16</td>\n",
       "    </tr>\n",
       "  </tbody>\n",
       "</table>\n",
       "</div>"
      ],
      "text/plain": [
       "                            Zone    max\n",
       "0  Long Island City/Queens Plaza  88.00\n",
       "1                   Central Park  30.00\n",
       "2                        Jamaica  25.00\n",
       "3                           None  25.00\n",
       "4                        Astoria  18.16"
      ]
     },
     "execution_count": 26,
     "metadata": {},
     "output_type": "execute_result"
    }
   ],
   "source": [
    "df6.head()"
   ]
  },
  {
   "cell_type": "markdown",
   "id": "6fe4ac7e-44d7-4437-9576-9d6ecf445551",
   "metadata": {},
   "source": [
    "#### Answer: Long Island City/Queens Plaza"
   ]
  }
 ],
 "metadata": {
  "kernelspec": {
   "display_name": "Python 3 (ipykernel)",
   "language": "python",
   "name": "python3"
  },
  "language_info": {
   "codemirror_mode": {
    "name": "ipython",
    "version": 3
   },
   "file_extension": ".py",
   "mimetype": "text/x-python",
   "name": "python",
   "nbconvert_exporter": "python",
   "pygments_lexer": "ipython3",
   "version": "3.10.5"
  }
 },
 "nbformat": 4,
 "nbformat_minor": 5
}
